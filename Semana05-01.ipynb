{
 "cells": [
  {
   "cell_type": "markdown",
   "id": "da4be58e",
   "metadata": {},
   "source": [
    "# Semana 05"
   ]
  },
  {
   "cell_type": "markdown",
   "id": "dca0f57b",
   "metadata": {},
   "source": [
    "## Temas:\n",
    "    1. Colecciones de Datos\n",
    "    2. Estructuras decisivas\n",
    "    3. Clases y objetos\n",
    "    4. Funciones"
   ]
  },
  {
   "cell_type": "raw",
   "id": "0dce5f0b",
   "metadata": {},
   "source": [
    "2. Estructuras decisivas"
   ]
  },
  {
   "cell_type": "code",
   "execution_count": 1,
   "id": "b994586c",
   "metadata": {},
   "outputs": [],
   "source": [
    "# 2.1. Estructuras decisivas (if, elif, else)"
   ]
  },
  {
   "cell_type": "code",
   "execution_count": 2,
   "id": "270da5d9",
   "metadata": {},
   "outputs": [],
   "source": [
    "# Problema: Dado el precio de 3 productos ingresados por el teclado,\n",
    "# aplicar un descuento de 10% si la venta es mayor o igual a 1000"
   ]
  },
  {
   "cell_type": "code",
   "execution_count": 5,
   "id": "7a43bbba",
   "metadata": {},
   "outputs": [
    {
     "name": "stdout",
     "output_type": "stream",
     "text": [
      "Ingrese el producto 01: 345\n",
      "Ingrese el producto 02: 67\n",
      "Ingrese el producto 03: 2134\n"
     ]
    }
   ],
   "source": [
    "a = float(input(\"Ingrese el producto 01: \"))\n",
    "b = float(input(\"Ingrese el producto 02: \"))\n",
    "c = float(input(\"Ingrese el producto 03: \"))"
   ]
  },
  {
   "cell_type": "code",
   "execution_count": 6,
   "id": "51038a98",
   "metadata": {},
   "outputs": [
    {
     "name": "stdout",
     "output_type": "stream",
     "text": [
      "El total sería: 2291.4\n"
     ]
    }
   ],
   "source": [
    "if a + b + c >= 1000:\n",
    "    res = (a+b+c)*0.9\n",
    "    print(f\"El total sería: {res}\")\n",
    "else:\n",
    "    res2 = a + b + c\n",
    "    print(f\"Importe a pagar: {res2}\")"
   ]
  },
  {
   "cell_type": "code",
   "execution_count": 8,
   "id": "72b812fd",
   "metadata": {},
   "outputs": [],
   "source": [
    "#Dado una lista de estudiantes [Asunción, Barzola, Caman, Curo, Inca, Sahuma, Talledo, Urbisagastegui]\n",
    "#Diseñar un código que muestre si el apellido de un estudiante (Ingresado por el teclado) forma parte de la lista"
   ]
  },
  {
   "cell_type": "code",
   "execution_count": 12,
   "id": "51cc315b",
   "metadata": {},
   "outputs": [],
   "source": [
    "lista = ['ASUNCIÓN', 'BARZOLA', 'CAMAN', 'CURO', 'INCA', 'SAHUMA', 'TALLEDO', 'URBISAGASTEGUI']"
   ]
  },
  {
   "cell_type": "code",
   "execution_count": 11,
   "id": "13f9809a",
   "metadata": {},
   "outputs": [
    {
     "name": "stdout",
     "output_type": "stream",
     "text": [
      "Ingresar estudiante: ASDASD\n"
     ]
    }
   ],
   "source": [
    "buscar = input(\"Ingresar estudiante: \")"
   ]
  },
  {
   "cell_type": "code",
   "execution_count": 13,
   "id": "e4b8cbdd",
   "metadata": {},
   "outputs": [],
   "source": [
    "#Como los datos de la lista están en mayúscula, utilizo upper()"
   ]
  },
  {
   "cell_type": "code",
   "execution_count": 14,
   "id": "9ea77cd6",
   "metadata": {},
   "outputs": [
    {
     "name": "stdout",
     "output_type": "stream",
     "text": [
      "No está en la lista\n"
     ]
    }
   ],
   "source": [
    "if buscar.upper() in lista:\n",
    "    print(\"El alumno sí se encuentr en la lista de LP3\")\n",
    "else:\n",
    "    print(\"No está en la lista\")"
   ]
  },
  {
   "cell_type": "code",
   "execution_count": 15,
   "id": "26d1b659",
   "metadata": {},
   "outputs": [],
   "source": [
    "#Problema 02\n",
    "# Dado el importe total de ventas realizadas por un trabajador (ingresado por el teclado)\n",
    "# Categorizar que tipo de empleado es, considerando la siguiente tabla:"
   ]
  },
  {
   "cell_type": "code",
   "execution_count": 20,
   "id": "1c7464cb",
   "metadata": {},
   "outputs": [
    {
     "name": "stdout",
     "output_type": "stream",
     "text": [
      "Ingresar importe: 2300\n"
     ]
    }
   ],
   "source": [
    "empleado = float(input(\"Ingresar importe: \"))"
   ]
  },
  {
   "cell_type": "code",
   "execution_count": 21,
   "id": "7ad3bff8",
   "metadata": {},
   "outputs": [
    {
     "name": "stdout",
     "output_type": "stream",
     "text": [
      "Categoría C\n"
     ]
    }
   ],
   "source": [
    "if empleado <= 1000:\n",
    "    print(\"Categoría A\")\n",
    "elif empleado >= 1000 and empleado < 2000:\n",
    "    print(\"Categoría B\")\n",
    "elif empleado >= 2000 and empleado < 5000:\n",
    "    print(\"Categoría C\")\n",
    "elif empleado >= 5000:\n",
    "    print(\"Categoría D\")\n",
    "else:\n",
    "    print(\"Datos erróneos.\")"
   ]
  },
  {
   "cell_type": "code",
   "execution_count": 22,
   "id": "89b08752",
   "metadata": {},
   "outputs": [],
   "source": [
    "# Estructuras repetitivas: for"
   ]
  },
  {
   "cell_type": "code",
   "execution_count": 24,
   "id": "6193ec41",
   "metadata": {},
   "outputs": [
    {
     "name": "stdout",
     "output_type": "stream",
     "text": [
      "ASUNCIÓN\n",
      "BARZOLA\n",
      "CAMAN\n",
      "CURO\n",
      "INCA\n",
      "SAHUMA\n",
      "TALLEDO\n",
      "URBISAGASTEGUI\n"
     ]
    }
   ],
   "source": [
    "for i in lista:\n",
    "    print(i)"
   ]
  },
  {
   "cell_type": "code",
   "execution_count": 26,
   "id": "b08437b5",
   "metadata": {},
   "outputs": [],
   "source": [
    "#Problema 02: Ingresar una cadena por teclado y que haga el recorrido"
   ]
  },
  {
   "cell_type": "code",
   "execution_count": 30,
   "id": "5560a078",
   "metadata": {},
   "outputs": [
    {
     "name": "stdout",
     "output_type": "stream",
     "text": [
      "Ingrese la cadena: Live while you are young\n"
     ]
    }
   ],
   "source": [
    "teclado = input(\"Ingrese la cadena: \")"
   ]
  },
  {
   "cell_type": "code",
   "execution_count": 32,
   "id": "ded9f981",
   "metadata": {},
   "outputs": [
    {
     "name": "stdout",
     "output_type": "stream",
     "text": [
      "L\n",
      "i\n",
      "v\n",
      "e\n",
      " \n",
      "w\n",
      "h\n",
      "i\n",
      "l\n",
      "e\n",
      " \n",
      "y\n",
      "o\n",
      "u\n",
      " \n",
      "a\n",
      "r\n",
      "e\n",
      " \n",
      "y\n",
      "o\n",
      "u\n",
      "n\n",
      "g\n"
     ]
    }
   ],
   "source": [
    "for i in teclado:\n",
    "    print(i)"
   ]
  },
  {
   "cell_type": "code",
   "execution_count": 34,
   "id": "e9ca03cd",
   "metadata": {},
   "outputs": [
    {
     "data": {
      "text/plain": [
       "range(0, 5)"
      ]
     },
     "execution_count": 34,
     "metadata": {},
     "output_type": "execute_result"
    }
   ],
   "source": [
    "#Para generar rangos de números utilizamos range()\n",
    "range(5)"
   ]
  },
  {
   "cell_type": "code",
   "execution_count": 35,
   "id": "f7d5ec8f",
   "metadata": {},
   "outputs": [],
   "source": [
    "#Imprimir los números del 0 al 10, utilizando for"
   ]
  },
  {
   "cell_type": "code",
   "execution_count": 37,
   "id": "c280bc88",
   "metadata": {},
   "outputs": [
    {
     "name": "stdout",
     "output_type": "stream",
     "text": [
      "0\n",
      "1\n",
      "2\n",
      "3\n",
      "4\n",
      "5\n",
      "6\n",
      "7\n",
      "8\n",
      "9\n",
      "10\n"
     ]
    }
   ],
   "source": [
    "for i in range(0,11):\n",
    "    print(i)"
   ]
  },
  {
   "cell_type": "code",
   "execution_count": 39,
   "id": "19addb96",
   "metadata": {},
   "outputs": [
    {
     "name": "stdout",
     "output_type": "stream",
     "text": [
      "5\n",
      "6\n",
      "7\n",
      "8\n",
      "9\n",
      "10\n"
     ]
    }
   ],
   "source": [
    "#Imprimir los números desde 5 hasta 10\n",
    "for m in range(5,11):\n",
    "    print(m)"
   ]
  },
  {
   "cell_type": "code",
   "execution_count": 41,
   "id": "52891dee",
   "metadata": {},
   "outputs": [
    {
     "name": "stdout",
     "output_type": "stream",
     "text": [
      "10\n",
      "12\n",
      "14\n",
      "16\n",
      "18\n",
      "20\n"
     ]
    }
   ],
   "source": [
    "#Imprimir los números de 10 a 20 de dos en dos, utilizando for\n",
    "for i in range(10,21,2):\n",
    "    print(i)"
   ]
  },
  {
   "cell_type": "code",
   "execution_count": 42,
   "id": "5d216964",
   "metadata": {},
   "outputs": [
    {
     "name": "stdout",
     "output_type": "stream",
     "text": [
      "2\n",
      "3\n",
      "4\n",
      "5\n",
      "6\n",
      "7\n",
      "8\n",
      "9\n"
     ]
    }
   ],
   "source": [
    "#While\n",
    "#Permite ejecutar un conjunto de aciones mientras se cumpla una condición\n",
    "numero = 2\n",
    "while numero < 10:\n",
    "    print(numero)\n",
    "    numero += 1"
   ]
  }
 ],
 "metadata": {
  "kernelspec": {
   "display_name": "Python 3 (ipykernel)",
   "language": "python",
   "name": "python3"
  },
  "language_info": {
   "codemirror_mode": {
    "name": "ipython",
    "version": 3
   },
   "file_extension": ".py",
   "mimetype": "text/x-python",
   "name": "python",
   "nbconvert_exporter": "python",
   "pygments_lexer": "ipython3",
   "version": "3.9.13"
  }
 },
 "nbformat": 4,
 "nbformat_minor": 5
}
