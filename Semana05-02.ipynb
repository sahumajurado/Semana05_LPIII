{
 "cells": [
  {
   "cell_type": "markdown",
   "id": "7f37992e",
   "metadata": {},
   "source": [
    "# 4. Clases y objetos"
   ]
  },
  {
   "cell_type": "code",
   "execution_count": 2,
   "id": "78afa598",
   "metadata": {},
   "outputs": [],
   "source": [
    "# 3 Funciones"
   ]
  },
  {
   "cell_type": "code",
   "execution_count": 3,
   "id": "3955cf31",
   "metadata": {},
   "outputs": [],
   "source": [
    "#Tenemos 4 métodos:\n",
    "# - Métodos vacíos\n",
    "# - Métodos que reciben valores\n",
    "# - Métodos que devuelen un valor\n",
    "# - Métodos que reciben y devuelven valores"
   ]
  },
  {
   "cell_type": "code",
   "execution_count": 5,
   "id": "c78206ce",
   "metadata": {},
   "outputs": [],
   "source": [
    "#3.1. Métodos vacíos\n",
    "# No recibe valores (Parámetros)"
   ]
  },
  {
   "cell_type": "code",
   "execution_count": 6,
   "id": "395be441",
   "metadata": {},
   "outputs": [],
   "source": [
    "def saludo():\n",
    "    print(\"Bienvenidos al curso de LP3\")\n",
    "    print(\"***Python***\")"
   ]
  },
  {
   "cell_type": "code",
   "execution_count": 8,
   "id": "33f80f8f",
   "metadata": {},
   "outputs": [
    {
     "name": "stdout",
     "output_type": "stream",
     "text": [
      "Bienvenidos al curso de LP3\n",
      "***Python***\n"
     ]
    }
   ],
   "source": [
    "saludo()"
   ]
  },
  {
   "cell_type": "code",
   "execution_count": 10,
   "id": "f6f141b6",
   "metadata": {},
   "outputs": [],
   "source": [
    "#3.2. Métodos que reciben valores\n",
    "def factorial(numero):\n",
    "    fac = 1\n",
    "    for i in range(1, numero + 1):\n",
    "        fac*=i\n",
    "    print(f\"El factorial es: {fac}\")"
   ]
  },
  {
   "cell_type": "code",
   "execution_count": 15,
   "id": "07262ef8",
   "metadata": {},
   "outputs": [
    {
     "name": "stdout",
     "output_type": "stream",
     "text": [
      "Ingresar un número entero: 7\n",
      "El factorial es: 5040\n"
     ]
    }
   ],
   "source": [
    "numero = int(input(\"Ingresar un número entero: \"))\n",
    "factorial(numero)"
   ]
  },
  {
   "cell_type": "code",
   "execution_count": 17,
   "id": "405191a8",
   "metadata": {},
   "outputs": [],
   "source": [
    "# 3.3. Métodos qu devuelven valores\n",
    "def saludo2():\n",
    "    mensaje = \"Bienvenidos a LP3\"\n",
    "    return mensaje"
   ]
  },
  {
   "cell_type": "code",
   "execution_count": 19,
   "id": "c59dc93f",
   "metadata": {},
   "outputs": [
    {
     "name": "stdout",
     "output_type": "stream",
     "text": [
      "Bienvenidos a LP3\n"
     ]
    }
   ],
   "source": [
    "print(saludo2())"
   ]
  },
  {
   "cell_type": "code",
   "execution_count": 21,
   "id": "81175b9b",
   "metadata": {},
   "outputs": [],
   "source": [
    "#3.4. Métodos que reciben y devuelven valores\n",
    "def factorial2(numero):\n",
    "    fac = 1\n",
    "    for i in range(1, numero +1):\n",
    "        fac*=i\n",
    "    return fac"
   ]
  },
  {
   "cell_type": "code",
   "execution_count": 23,
   "id": "e96ff47e",
   "metadata": {},
   "outputs": [
    {
     "name": "stdout",
     "output_type": "stream",
     "text": [
      "Ingrese el número entero: 5\n",
      "El factorial de 5 es: 120\n"
     ]
    }
   ],
   "source": [
    "numero = int(input(\"Ingrese el número entero: \"))\n",
    "print(f\"El factorial de {numero} es: {factorial2(numero)}\")"
   ]
  },
  {
   "cell_type": "code",
   "execution_count": 25,
   "id": "9a545271",
   "metadata": {},
   "outputs": [],
   "source": [
    "def obtener_igv(importe):\n",
    "    return importe*0.18"
   ]
  },
  {
   "cell_type": "code",
   "execution_count": 26,
   "id": "4e764585",
   "metadata": {},
   "outputs": [
    {
     "data": {
      "text/plain": [
       "18.0"
      ]
     },
     "execution_count": 26,
     "metadata": {},
     "output_type": "execute_result"
    }
   ],
   "source": [
    "obtener_igv(100)"
   ]
  }
 ],
 "metadata": {
  "kernelspec": {
   "display_name": "Python 3 (ipykernel)",
   "language": "python",
   "name": "python3"
  },
  "language_info": {
   "codemirror_mode": {
    "name": "ipython",
    "version": 3
   },
   "file_extension": ".py",
   "mimetype": "text/x-python",
   "name": "python",
   "nbconvert_exporter": "python",
   "pygments_lexer": "ipython3",
   "version": "3.9.13"
  }
 },
 "nbformat": 4,
 "nbformat_minor": 5
}
