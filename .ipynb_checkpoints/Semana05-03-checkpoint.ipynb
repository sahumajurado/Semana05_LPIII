{
 "cells": [
  {
   "cell_type": "markdown",
   "id": "e4b2ee52",
   "metadata": {},
   "source": [
    "# Clases y objetos"
   ]
  },
  {
   "cell_type": "code",
   "execution_count": 1,
   "id": "00eccbb2",
   "metadata": {},
   "outputs": [],
   "source": [
    "#Crear la siguiente clase\n",
    "# - Clase: Persona\n",
    "# - Atributos: nombre, apellido, fecha de nacimiento, DNI"
   ]
  },
  {
   "cell_type": "code",
   "execution_count": 3,
   "id": "875f2578",
   "metadata": {},
   "outputs": [],
   "source": [
    "class Persona:\n",
    "    nombre = \"\"\n",
    "    apellido = \"\"\n",
    "    dni = \"\"\n",
    "    talla = 0"
   ]
  },
  {
   "cell_type": "code",
   "execution_count": 6,
   "id": "794b141a",
   "metadata": {},
   "outputs": [],
   "source": [
    "# Una vez definida la clase, se crea el objeto\n",
    "# Creamos un objeto persona1 de la clase Persona()\n",
    "# Y le asignamos valores\n",
    "\n",
    "#Creación del objeto persona1\n",
    "persona1 = Persona()"
   ]
  },
  {
   "cell_type": "code",
   "execution_count": 8,
   "id": "bf0a52c8",
   "metadata": {},
   "outputs": [],
   "source": [
    "#Asignamos valores al objeto\n",
    "persona1.nombre = \"Daniel\"\n",
    "persona1.apellido = \"Sahuma Jurado\"\n",
    "persona1.dni = \"77344719\"\n",
    "persona1.talla = 1.7"
   ]
  },
  {
   "cell_type": "code",
   "execution_count": 10,
   "id": "5bc8b5f1",
   "metadata": {},
   "outputs": [
    {
     "name": "stdout",
     "output_type": "stream",
     "text": [
      "persona1\n",
      "Nombre: Daniel\n",
      "Apellido: Sahuma Jurado\n",
      "DNI: 77344719\n",
      "Talla: 1.7\n"
     ]
    }
   ],
   "source": [
    "print(\"persona1\")\n",
    "print(f\"Nombre: {persona1.nombre}\")\n",
    "print(f\"Apellido: {persona1.apellido}\")\n",
    "print(f\"DNI: {persona1.dni}\")\n",
    "print(f\"Talla: {persona1.talla}\")"
   ]
  },
  {
   "cell_type": "code",
   "execution_count": 12,
   "id": "f116bd6f",
   "metadata": {},
   "outputs": [],
   "source": [
    "# Constructor: _init_\n",
    "# ¿Qué es? Es un método\n",
    "# Sirve para inicializar los valores a una clase"
   ]
  },
  {
   "cell_type": "code",
   "execution_count": 13,
   "id": "c69d2d30",
   "metadata": {},
   "outputs": [],
   "source": [
    "# Problema 02:\n",
    "# Crear clase: Curso\n",
    "# Atributo: Código, Nombre, horas, créditos"
   ]
  },
  {
   "cell_type": "code",
   "execution_count": 19,
   "id": "3f00462c",
   "metadata": {},
   "outputs": [],
   "source": [
    "class curso:\n",
    "    def __init__(self, codigo, nombre, horas, creditos):\n",
    "        self.codigo = codigo\n",
    "        self.nombre = nombre\n",
    "        self. horas = horas\n",
    "        self.creditos = creditos\n",
    "    \n",
    "    def mostrar_datos_curso(self):\n",
    "        print(f\"Curso: {self.nombre}\")\n",
    "        print(f\"Código: {self.codigo}\")\n",
    "        print(f\"Horas: {self.horas}\")\n",
    "        print(f\"Créditos: {self.creditos}\")"
   ]
  },
  {
   "cell_type": "code",
   "execution_count": 20,
   "id": "94a86d07",
   "metadata": {},
   "outputs": [],
   "source": [
    "# Creamos el objeto curso1 y le mandamos sus parámetros"
   ]
  },
  {
   "cell_type": "code",
   "execution_count": 21,
   "id": "5ae20562",
   "metadata": {},
   "outputs": [],
   "source": [
    "curso1 = curso(\"C0501\",\"LP3\",6,3)"
   ]
  }
 ],
 "metadata": {
  "kernelspec": {
   "display_name": "Python 3 (ipykernel)",
   "language": "python",
   "name": "python3"
  },
  "language_info": {
   "codemirror_mode": {
    "name": "ipython",
    "version": 3
   },
   "file_extension": ".py",
   "mimetype": "text/x-python",
   "name": "python",
   "nbconvert_exporter": "python",
   "pygments_lexer": "ipython3",
   "version": "3.9.13"
  }
 },
 "nbformat": 4,
 "nbformat_minor": 5
}
